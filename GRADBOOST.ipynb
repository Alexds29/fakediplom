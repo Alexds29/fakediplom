{
 "cells": [
  {
   "cell_type": "code",
   "execution_count": 7,
   "id": "dbb84d99",
   "metadata": {},
   "outputs": [],
   "source": [
    "from sklearn.model_selection import GridSearchCV, RandomizedSearchCV\n",
    "import pandas as pd\n",
    "import numpy as np\n",
    "import pipes2 as pp\n",
    "from sklearn.ensemble import GradientBoostingClassifier ### Замена класса\n",
    "\n",
    "\n",
    "df = pd.read_csv('air_train.csv')\n",
    "df = df.drop(['Unnamed: 0','id'], axis = 1)\n",
    "df = pp.myPipe.transform(df)\n",
    "X = df.drop(['satisfaction'], axis = 1)\n",
    "y = df.satisfaction\n",
    "\n",
    "t = pd.read_csv('air_test.csv')\n",
    "t = t.drop(['Unnamed: 0','id'], axis = 1)\n",
    "t = pp.myPipe.transform(t)\n",
    "X_t = t.drop(['satisfaction'], axis = 1)\n",
    "y_t = t.satisfaction"
   ]
  },
  {
   "cell_type": "code",
   "execution_count": 8,
   "id": "4aeb76a0",
   "metadata": {},
   "outputs": [],
   "source": [
    "ada = GradientBoostingClassifier()"
   ]
  },
  {
   "cell_type": "code",
   "execution_count": 9,
   "id": "2a8cbb4c",
   "metadata": {},
   "outputs": [],
   "source": [
    "paramgrid = {'max_depth' : [5, 9, 15],\n",
    "             'learning_rate' : [0.5,0.01], 'n_estimators': [100,200,300 ]}"
   ]
  },
  {
   "cell_type": "code",
   "execution_count": 14,
   "id": "81630df5",
   "metadata": {},
   "outputs": [],
   "source": [
    "GS_grad = RandomizedSearchCV(ada, param_distributions = paramgrid, n_iter = 3, cv = 3, scoring = 'f1')"
   ]
  },
  {
   "cell_type": "code",
   "execution_count": 15,
   "id": "2801c6a6",
   "metadata": {},
   "outputs": [
    {
     "data": {
      "text/plain": [
       "RandomizedSearchCV(cv=3, estimator=GradientBoostingClassifier(), n_iter=3,\n",
       "                   param_distributions={'learning_rate': [0.5, 0.01],\n",
       "                                        'max_depth': [5, 9, 15],\n",
       "                                        'n_estimators': [100, 200, 300]},\n",
       "                   scoring='f1')"
      ]
     },
     "execution_count": 15,
     "metadata": {},
     "output_type": "execute_result"
    }
   ],
   "source": [
    "GS_grad.fit(X,y)"
   ]
  },
  {
   "cell_type": "code",
   "execution_count": 16,
   "id": "12ca6bac",
   "metadata": {},
   "outputs": [
    {
     "data": {
      "text/plain": [
       "{'n_estimators': 300, 'max_depth': 15, 'learning_rate': 0.01}"
      ]
     },
     "execution_count": 16,
     "metadata": {},
     "output_type": "execute_result"
    }
   ],
   "source": [
    "GS_grad.best_params_"
   ]
  },
  {
   "cell_type": "code",
   "execution_count": 18,
   "id": "b0adfe72",
   "metadata": {},
   "outputs": [],
   "source": [
    "best_GB = GS_grad.best_estimator_"
   ]
  },
  {
   "cell_type": "code",
   "execution_count": 19,
   "id": "4bdac915",
   "metadata": {},
   "outputs": [
    {
     "data": {
      "text/plain": [
       "0.9545191837460544"
      ]
     },
     "execution_count": 19,
     "metadata": {},
     "output_type": "execute_result"
    }
   ],
   "source": [
    "from sklearn.metrics import f1_score\n",
    "pred = best_GB.predict(X_t)\n",
    "f1_score(y_t, pred)"
   ]
  },
  {
   "cell_type": "code",
   "execution_count": null,
   "id": "a253a741",
   "metadata": {},
   "outputs": [],
   "source": []
  },
  {
   "cell_type": "code",
   "execution_count": null,
   "id": "8464a247",
   "metadata": {},
   "outputs": [],
   "source": []
  },
  {
   "cell_type": "code",
   "execution_count": null,
   "id": "b4f24b79",
   "metadata": {},
   "outputs": [],
   "source": []
  },
  {
   "cell_type": "code",
   "execution_count": 20,
   "id": "26793986",
   "metadata": {},
   "outputs": [],
   "source": [
    "gb = GradientBoostingClassifier(max_depth = 15, learning_rate = 0.01, n_estimators = 300)"
   ]
  },
  {
   "cell_type": "code",
   "execution_count": 21,
   "id": "7d7e55b9",
   "metadata": {},
   "outputs": [
    {
     "data": {
      "text/plain": [
       "GradientBoostingClassifier(learning_rate=0.01, max_depth=15, n_estimators=300)"
      ]
     },
     "execution_count": 21,
     "metadata": {},
     "output_type": "execute_result"
    }
   ],
   "source": [
    "gb.fit(X, y)"
   ]
  },
  {
   "cell_type": "code",
   "execution_count": 22,
   "id": "926b3b3c",
   "metadata": {},
   "outputs": [
    {
     "data": {
      "text/plain": [
       "0.9547153024911031"
      ]
     },
     "execution_count": 22,
     "metadata": {},
     "output_type": "execute_result"
    }
   ],
   "source": [
    "from sklearn.metrics import f1_score\n",
    "pred = gb.predict(X_t)\n",
    "f1_score(y_t, pred)"
   ]
  },
  {
   "cell_type": "code",
   "execution_count": null,
   "id": "ff22348a",
   "metadata": {},
   "outputs": [],
   "source": []
  },
  {
   "cell_type": "code",
   "execution_count": null,
   "id": "92bc9701",
   "metadata": {},
   "outputs": [],
   "source": []
  },
  {
   "cell_type": "code",
   "execution_count": 15,
   "id": "ee4905cb",
   "metadata": {},
   "outputs": [
    {
     "data": {
      "text/plain": [
       "0.9567425491156948"
      ]
     },
     "execution_count": 15,
     "metadata": {},
     "output_type": "execute_result"
    }
   ],
   "source": [
    "from sklearn.metrics import f1_score\n",
    "pred = ada.predict(X_t)\n",
    "f1_score(y_t, pred)"
   ]
  },
  {
   "cell_type": "code",
   "execution_count": null,
   "id": "ecb2f4cb",
   "metadata": {},
   "outputs": [],
   "source": []
  },
  {
   "cell_type": "code",
   "execution_count": null,
   "id": "cac4e623",
   "metadata": {},
   "outputs": [],
   "source": []
  },
  {
   "cell_type": "code",
   "execution_count": null,
   "id": "15c924c1",
   "metadata": {},
   "outputs": [],
   "source": []
  },
  {
   "cell_type": "code",
   "execution_count": null,
   "id": "d91f4748",
   "metadata": {},
   "outputs": [],
   "source": [
    "import pickle\n",
    "with open('data.pickle', 'wb') as f:\n",
    "     pickle.dump(data, f)"
   ]
  },
  {
   "cell_type": "code",
   "execution_count": null,
   "id": "fe2d3cd2",
   "metadata": {},
   "outputs": [],
   "source": [
    "with open('data.pickle', 'rb') as f:\n",
    "     data_new = pickle.load(f)"
   ]
  }
 ],
 "metadata": {
  "kernelspec": {
   "display_name": "Python 3 (ipykernel)",
   "language": "python",
   "name": "python3"
  },
  "language_info": {
   "codemirror_mode": {
    "name": "ipython",
    "version": 3
   },
   "file_extension": ".py",
   "mimetype": "text/x-python",
   "name": "python",
   "nbconvert_exporter": "python",
   "pygments_lexer": "ipython3",
   "version": "3.9.7"
  }
 },
 "nbformat": 4,
 "nbformat_minor": 5
}
